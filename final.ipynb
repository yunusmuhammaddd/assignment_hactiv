{
 "cells": [
  {
   "cell_type": "markdown",
   "metadata": {},
   "source": [
    "# Assignment's Name"
   ]
  },
  {
   "cell_type": "markdown",
   "metadata": {},
   "source": [
    "# i. Introduction\n",
    "\n",
    "**Name:** Yunus\n",
    "**Problem statement:**  \n",
    "Menurut laporan FIFA 2022 jumlah pemain sepakbola pada tahun 2021 kurang lebih sebanyak 130.000 pemain. Namun, dalam dataset yang digunakan pada kali ini, hanya mencakup 20.000 pemain.  \n",
    "**Objective:**  \n",
    " Project kali ini bertujuan untukk memprediksi rating pemain FIFA 2022 sehingga semua pemain sepakbola professional dapat diketahui ratingnya dan tidak menutup kemungkinan untuk lahirnya talenta baru dengan model `Linear Regression` dan metrics `MAE,MSE,RMSE,dan R2 score`."
   ]
  },
  {
   "cell_type": "markdown",
   "metadata": {},
   "source": [
    "# ii. Import Libraries"
   ]
  },
  {
   "cell_type": "code",
   "execution_count": 57,
   "metadata": {},
   "outputs": [],
   "source": [
    "# Import Libraries\n",
    "import pandas as pd\n",
    "import numpy as np\n",
    "\n",
    "# Visualization libraries\n",
    "import matplotlib.pyplot as plt\n",
    "import seaborn as sns\n",
    "\n",
    "# Feature Engineering\n",
    "from sklearn.model_selection import train_test_split\n",
    "from feature_engine.outliers import Winsorizer\n",
    "import phik\n",
    "from sklearn.preprocessing import StandardScaler,RobustScaler,OrdinalEncoder\n",
    "\n",
    "# Import model\n",
    "from sklearn.linear_model import LinearRegression\n",
    "\n",
    "# Import evaluation model\n",
    "from sklearn.metrics import mean_absolute_error\n",
    "\n",
    "# Import for saving model\n",
    "import pickle\n",
    "import json\n",
    "\n",
    "# Ignore warning\n",
    "import warnings\n",
    "warnings.filterwarnings('ignore')\n"
   ]
  },
  {
   "cell_type": "markdown",
   "metadata": {},
   "source": [
    "# iii. Data Loading"
   ]
  },
  {
   "cell_type": "code",
   "execution_count": 2,
   "metadata": {},
   "outputs": [
    {
     "data": {
      "text/html": [
       "<div>\n",
       "<style scoped>\n",
       "    .dataframe tbody tr th:only-of-type {\n",
       "        vertical-align: middle;\n",
       "    }\n",
       "\n",
       "    .dataframe tbody tr th {\n",
       "        vertical-align: top;\n",
       "    }\n",
       "\n",
       "    .dataframe thead th {\n",
       "        text-align: right;\n",
       "    }\n",
       "</style>\n",
       "<table border=\"1\" class=\"dataframe\">\n",
       "  <thead>\n",
       "    <tr style=\"text-align: right;\">\n",
       "      <th></th>\n",
       "      <th>Name</th>\n",
       "      <th>Age</th>\n",
       "      <th>Height</th>\n",
       "      <th>Weight</th>\n",
       "      <th>ValueEUR</th>\n",
       "      <th>AttackingWorkRate</th>\n",
       "      <th>DefensiveWorkRate</th>\n",
       "      <th>PaceTotal</th>\n",
       "      <th>ShootingTotal</th>\n",
       "      <th>PassingTotal</th>\n",
       "      <th>DribblingTotal</th>\n",
       "      <th>DefendingTotal</th>\n",
       "      <th>PhysicalityTotal</th>\n",
       "      <th>Overall</th>\n",
       "    </tr>\n",
       "  </thead>\n",
       "  <tbody>\n",
       "    <tr>\n",
       "      <th>0</th>\n",
       "      <td>L. Messi</td>\n",
       "      <td>34</td>\n",
       "      <td>170</td>\n",
       "      <td>72</td>\n",
       "      <td>78000000</td>\n",
       "      <td>Medium</td>\n",
       "      <td>Low</td>\n",
       "      <td>85</td>\n",
       "      <td>92</td>\n",
       "      <td>91</td>\n",
       "      <td>95</td>\n",
       "      <td>34</td>\n",
       "      <td>65</td>\n",
       "      <td>93</td>\n",
       "    </tr>\n",
       "    <tr>\n",
       "      <th>1</th>\n",
       "      <td>R. Lewandowski</td>\n",
       "      <td>32</td>\n",
       "      <td>185</td>\n",
       "      <td>81</td>\n",
       "      <td>119500000</td>\n",
       "      <td>High</td>\n",
       "      <td>Medium</td>\n",
       "      <td>78</td>\n",
       "      <td>92</td>\n",
       "      <td>79</td>\n",
       "      <td>85</td>\n",
       "      <td>44</td>\n",
       "      <td>82</td>\n",
       "      <td>92</td>\n",
       "    </tr>\n",
       "    <tr>\n",
       "      <th>2</th>\n",
       "      <td>Cristiano Ronaldo</td>\n",
       "      <td>36</td>\n",
       "      <td>187</td>\n",
       "      <td>83</td>\n",
       "      <td>45000000</td>\n",
       "      <td>High</td>\n",
       "      <td>Low</td>\n",
       "      <td>87</td>\n",
       "      <td>94</td>\n",
       "      <td>80</td>\n",
       "      <td>87</td>\n",
       "      <td>34</td>\n",
       "      <td>75</td>\n",
       "      <td>91</td>\n",
       "    </tr>\n",
       "    <tr>\n",
       "      <th>3</th>\n",
       "      <td>K. Mbappé</td>\n",
       "      <td>22</td>\n",
       "      <td>182</td>\n",
       "      <td>73</td>\n",
       "      <td>194000000</td>\n",
       "      <td>High</td>\n",
       "      <td>Low</td>\n",
       "      <td>97</td>\n",
       "      <td>88</td>\n",
       "      <td>80</td>\n",
       "      <td>92</td>\n",
       "      <td>36</td>\n",
       "      <td>77</td>\n",
       "      <td>91</td>\n",
       "    </tr>\n",
       "    <tr>\n",
       "      <th>4</th>\n",
       "      <td>J. Oblak</td>\n",
       "      <td>28</td>\n",
       "      <td>188</td>\n",
       "      <td>87</td>\n",
       "      <td>112000000</td>\n",
       "      <td>Medium</td>\n",
       "      <td>Medium</td>\n",
       "      <td>87</td>\n",
       "      <td>92</td>\n",
       "      <td>78</td>\n",
       "      <td>90</td>\n",
       "      <td>52</td>\n",
       "      <td>90</td>\n",
       "      <td>91</td>\n",
       "    </tr>\n",
       "  </tbody>\n",
       "</table>\n",
       "</div>"
      ],
      "text/plain": [
       "                Name  Age  Height  Weight   ValueEUR AttackingWorkRate  \\\n",
       "0           L. Messi   34     170      72   78000000            Medium   \n",
       "1     R. Lewandowski   32     185      81  119500000              High   \n",
       "2  Cristiano Ronaldo   36     187      83   45000000              High   \n",
       "3          K. Mbappé   22     182      73  194000000              High   \n",
       "4           J. Oblak   28     188      87  112000000            Medium   \n",
       "\n",
       "  DefensiveWorkRate  PaceTotal  ShootingTotal  PassingTotal  DribblingTotal  \\\n",
       "0               Low         85             92            91              95   \n",
       "1            Medium         78             92            79              85   \n",
       "2               Low         87             94            80              87   \n",
       "3               Low         97             88            80              92   \n",
       "4            Medium         87             92            78              90   \n",
       "\n",
       "   DefendingTotal  PhysicalityTotal  Overall  \n",
       "0              34                65       93  \n",
       "1              44                82       92  \n",
       "2              34                75       91  \n",
       "3              36                77       91  \n",
       "4              52                90       91  "
      ]
     },
     "execution_count": 2,
     "metadata": {},
     "output_type": "execute_result"
    }
   ],
   "source": [
    "# Import data\n",
    "df_ori = pd.read_csv('https://raw.githubusercontent.com/FTDS-learning-materials/phase-1/master/w1/P1W1D1PM%20-%20Machine%20Learning%20Problem%20Framing.csv')\n",
    "\n",
    "# Duplicate data\n",
    "df = df_ori.copy()\n",
    "\n",
    "# Show top 5 data\n",
    "df.head()"
   ]
  },
  {
   "cell_type": "code",
   "execution_count": 3,
   "metadata": {},
   "outputs": [
    {
     "name": "stdout",
     "output_type": "stream",
     "text": [
      "<class 'pandas.core.frame.DataFrame'>\n",
      "RangeIndex: 19260 entries, 0 to 19259\n",
      "Data columns (total 14 columns):\n",
      " #   Column             Non-Null Count  Dtype \n",
      "---  ------             --------------  ----- \n",
      " 0   Name               19260 non-null  object\n",
      " 1   Age                19260 non-null  int64 \n",
      " 2   Height             19260 non-null  int64 \n",
      " 3   Weight             19260 non-null  int64 \n",
      " 4   ValueEUR           19260 non-null  int64 \n",
      " 5   AttackingWorkRate  19260 non-null  object\n",
      " 6   DefensiveWorkRate  19260 non-null  object\n",
      " 7   PaceTotal          19260 non-null  int64 \n",
      " 8   ShootingTotal      19260 non-null  int64 \n",
      " 9   PassingTotal       19260 non-null  int64 \n",
      " 10  DribblingTotal     19260 non-null  int64 \n",
      " 11  DefendingTotal     19260 non-null  int64 \n",
      " 12  PhysicalityTotal   19260 non-null  int64 \n",
      " 13  Overall            19260 non-null  int64 \n",
      "dtypes: int64(11), object(3)\n",
      "memory usage: 2.1+ MB\n"
     ]
    }
   ],
   "source": [
    "# Checking dataset-1\n",
    "df.info()"
   ]
  },
  {
   "cell_type": "markdown",
   "metadata": {},
   "source": [
    "statement?? ... rows ...columns, misval? jumlah numerical categorical ? + make sure setiap data sudah sesuai dengan tipenya/cek numerical features apakah benar2 termasuk numerical features atau categorical feature yang sudah di encode? contoh:  \n",
    "gender tipe kolom integer. isinya 1 = male 0 = female. ini harusnya termasuk dalam kategorikal encoded column.\n",
    "\n",
    "praktek:  \n",
    "Nominal column = 'Name'  \n",
    "Ordinal column = 'AttackingWorkRate', 'DefensiveWorkRate'  \n",
    "categorical encoded = -  \n",
    "Numerical = 'Age', 'Height', 'Weight', 'ValueEUR','PaceTotal', 'ShootingTotal', 'PassingTotal','DribblingTotal', 'DefendingTotal', 'PhysicalityTotal'"
   ]
  },
  {
   "cell_type": "code",
   "execution_count": 4,
   "metadata": {},
   "outputs": [
    {
     "data": {
      "text/html": [
       "<div>\n",
       "<style scoped>\n",
       "    .dataframe tbody tr th:only-of-type {\n",
       "        vertical-align: middle;\n",
       "    }\n",
       "\n",
       "    .dataframe tbody tr th {\n",
       "        vertical-align: top;\n",
       "    }\n",
       "\n",
       "    .dataframe thead th {\n",
       "        text-align: right;\n",
       "    }\n",
       "</style>\n",
       "<table border=\"1\" class=\"dataframe\">\n",
       "  <thead>\n",
       "    <tr style=\"text-align: right;\">\n",
       "      <th></th>\n",
       "      <th>Age</th>\n",
       "      <th>Height</th>\n",
       "      <th>Weight</th>\n",
       "      <th>ValueEUR</th>\n",
       "      <th>PaceTotal</th>\n",
       "      <th>ShootingTotal</th>\n",
       "      <th>PassingTotal</th>\n",
       "      <th>DribblingTotal</th>\n",
       "      <th>DefendingTotal</th>\n",
       "      <th>PhysicalityTotal</th>\n",
       "      <th>Overall</th>\n",
       "    </tr>\n",
       "  </thead>\n",
       "  <tbody>\n",
       "    <tr>\n",
       "      <th>count</th>\n",
       "      <td>19260.000000</td>\n",
       "      <td>19260.000000</td>\n",
       "      <td>19260.000000</td>\n",
       "      <td>1.926000e+04</td>\n",
       "      <td>19260.000000</td>\n",
       "      <td>19260.000000</td>\n",
       "      <td>19260.000000</td>\n",
       "      <td>19260.000000</td>\n",
       "      <td>19260.0000</td>\n",
       "      <td>19260.000000</td>\n",
       "      <td>19260.000000</td>\n",
       "    </tr>\n",
       "    <tr>\n",
       "      <th>mean</th>\n",
       "      <td>25.184683</td>\n",
       "      <td>181.305036</td>\n",
       "      <td>74.950779</td>\n",
       "      <td>2.857652e+06</td>\n",
       "      <td>67.910228</td>\n",
       "      <td>53.535514</td>\n",
       "      <td>57.853323</td>\n",
       "      <td>63.028712</td>\n",
       "      <td>50.0581</td>\n",
       "      <td>64.676584</td>\n",
       "      <td>65.815628</td>\n",
       "    </tr>\n",
       "    <tr>\n",
       "      <th>std</th>\n",
       "      <td>4.737340</td>\n",
       "      <td>6.866151</td>\n",
       "      <td>7.066864</td>\n",
       "      <td>7.604532e+06</td>\n",
       "      <td>10.656453</td>\n",
       "      <td>13.813476</td>\n",
       "      <td>9.835494</td>\n",
       "      <td>9.704853</td>\n",
       "      <td>16.3888</td>\n",
       "      <td>9.626269</td>\n",
       "      <td>6.817297</td>\n",
       "    </tr>\n",
       "    <tr>\n",
       "      <th>min</th>\n",
       "      <td>16.000000</td>\n",
       "      <td>155.000000</td>\n",
       "      <td>49.000000</td>\n",
       "      <td>0.000000e+00</td>\n",
       "      <td>28.000000</td>\n",
       "      <td>18.000000</td>\n",
       "      <td>25.000000</td>\n",
       "      <td>26.000000</td>\n",
       "      <td>14.0000</td>\n",
       "      <td>29.000000</td>\n",
       "      <td>48.000000</td>\n",
       "    </tr>\n",
       "    <tr>\n",
       "      <th>25%</th>\n",
       "      <td>21.000000</td>\n",
       "      <td>176.000000</td>\n",
       "      <td>70.000000</td>\n",
       "      <td>4.750000e+05</td>\n",
       "      <td>62.000000</td>\n",
       "      <td>44.000000</td>\n",
       "      <td>52.000000</td>\n",
       "      <td>58.000000</td>\n",
       "      <td>35.0000</td>\n",
       "      <td>58.000000</td>\n",
       "      <td>62.000000</td>\n",
       "    </tr>\n",
       "    <tr>\n",
       "      <th>50%</th>\n",
       "      <td>25.000000</td>\n",
       "      <td>181.000000</td>\n",
       "      <td>75.000000</td>\n",
       "      <td>9.750000e+05</td>\n",
       "      <td>68.000000</td>\n",
       "      <td>56.000000</td>\n",
       "      <td>58.000000</td>\n",
       "      <td>64.000000</td>\n",
       "      <td>54.0000</td>\n",
       "      <td>66.000000</td>\n",
       "      <td>66.000000</td>\n",
       "    </tr>\n",
       "    <tr>\n",
       "      <th>75%</th>\n",
       "      <td>29.000000</td>\n",
       "      <td>186.000000</td>\n",
       "      <td>80.000000</td>\n",
       "      <td>2.000000e+06</td>\n",
       "      <td>75.000000</td>\n",
       "      <td>64.000000</td>\n",
       "      <td>65.000000</td>\n",
       "      <td>69.000000</td>\n",
       "      <td>63.0000</td>\n",
       "      <td>72.000000</td>\n",
       "      <td>70.000000</td>\n",
       "    </tr>\n",
       "    <tr>\n",
       "      <th>max</th>\n",
       "      <td>54.000000</td>\n",
       "      <td>206.000000</td>\n",
       "      <td>110.000000</td>\n",
       "      <td>1.940000e+08</td>\n",
       "      <td>97.000000</td>\n",
       "      <td>94.000000</td>\n",
       "      <td>93.000000</td>\n",
       "      <td>95.000000</td>\n",
       "      <td>91.0000</td>\n",
       "      <td>92.000000</td>\n",
       "      <td>93.000000</td>\n",
       "    </tr>\n",
       "  </tbody>\n",
       "</table>\n",
       "</div>"
      ],
      "text/plain": [
       "                Age        Height        Weight      ValueEUR     PaceTotal  \\\n",
       "count  19260.000000  19260.000000  19260.000000  1.926000e+04  19260.000000   \n",
       "mean      25.184683    181.305036     74.950779  2.857652e+06     67.910228   \n",
       "std        4.737340      6.866151      7.066864  7.604532e+06     10.656453   \n",
       "min       16.000000    155.000000     49.000000  0.000000e+00     28.000000   \n",
       "25%       21.000000    176.000000     70.000000  4.750000e+05     62.000000   \n",
       "50%       25.000000    181.000000     75.000000  9.750000e+05     68.000000   \n",
       "75%       29.000000    186.000000     80.000000  2.000000e+06     75.000000   \n",
       "max       54.000000    206.000000    110.000000  1.940000e+08     97.000000   \n",
       "\n",
       "       ShootingTotal  PassingTotal  DribblingTotal  DefendingTotal  \\\n",
       "count   19260.000000  19260.000000    19260.000000      19260.0000   \n",
       "mean       53.535514     57.853323       63.028712         50.0581   \n",
       "std        13.813476      9.835494        9.704853         16.3888   \n",
       "min        18.000000     25.000000       26.000000         14.0000   \n",
       "25%        44.000000     52.000000       58.000000         35.0000   \n",
       "50%        56.000000     58.000000       64.000000         54.0000   \n",
       "75%        64.000000     65.000000       69.000000         63.0000   \n",
       "max        94.000000     93.000000       95.000000         91.0000   \n",
       "\n",
       "       PhysicalityTotal       Overall  \n",
       "count      19260.000000  19260.000000  \n",
       "mean          64.676584     65.815628  \n",
       "std            9.626269      6.817297  \n",
       "min           29.000000     48.000000  \n",
       "25%           58.000000     62.000000  \n",
       "50%           66.000000     66.000000  \n",
       "75%           72.000000     70.000000  \n",
       "max           92.000000     93.000000  "
      ]
     },
     "execution_count": 4,
     "metadata": {},
     "output_type": "execute_result"
    }
   ],
   "source": [
    "# Checking dataset-2\n",
    "df.describe()"
   ]
  },
  {
   "cell_type": "markdown",
   "metadata": {},
   "source": [
    "statement??"
   ]
  },
  {
   "cell_type": "code",
   "execution_count": 5,
   "metadata": {},
   "outputs": [
    {
     "data": {
      "text/plain": [
       "104"
      ]
     },
     "execution_count": 5,
     "metadata": {},
     "output_type": "execute_result"
    }
   ],
   "source": [
    "# Checking dataset-3\n",
    "df.duplicated().sum()"
   ]
  },
  {
   "cell_type": "code",
   "execution_count": 6,
   "metadata": {},
   "outputs": [],
   "source": [
    "df.drop_duplicates(inplace=True) # cara 1\n",
    "# df = df.drop_duplicates()      # cara 2"
   ]
  },
  {
   "cell_type": "code",
   "execution_count": 7,
   "metadata": {},
   "outputs": [
    {
     "data": {
      "text/plain": [
       "0"
      ]
     },
     "execution_count": 7,
     "metadata": {},
     "output_type": "execute_result"
    }
   ],
   "source": [
    "df.duplicated().sum()"
   ]
  },
  {
   "cell_type": "markdown",
   "metadata": {},
   "source": [
    "# iv. Exploratory Data Analysis (EDA)"
   ]
  },
  {
   "cell_type": "markdown",
   "metadata": {},
   "source": [
    "obj1: Ingin melihat persebaran rating pada dataset dan juga ingin melihat proporsi antara berat badan dan tinggi badan."
   ]
  },
  {
   "cell_type": "code",
   "execution_count": 8,
   "metadata": {},
   "outputs": [
    {
     "data": {
      "image/png": "[encoded data removed]",
      "text/plain": [
       "<Figure size 1500x500 with 2 Axes>"
      ]
     },
     "metadata": {},
     "output_type": "display_data"
    }
   ],
   "source": [
    "# Create Histogram and Scatter Plot\n",
    "\n",
    "# Create canvas\n",
    "plt.figure(figsize=(15,5))\n",
    "\n",
    "# Plot 1st visualization\n",
    "plt.subplot(1,2,1)\n",
    "sns.histplot(df.Overall,kde=True,bins=30)\n",
    "plt.title('Histogram of Target')\n",
    "\n",
    "# Plot 2nd visualization\n",
    "plt.subplot(1,2,2)\n",
    "sns.scatterplot(x='Weight', y='Height', data=df)\n",
    "plt.title('Weight vs Height')\n",
    "\n",
    "plt.show()"
   ]
  },
  {
   "cell_type": "markdown",
   "metadata": {},
   "source": [
    "statementt??\n",
    "\n",
    "visualisasi 2,3,dst\n",
    "\n",
    "objektif + insight"
   ]
  },
  {
   "cell_type": "markdown",
   "metadata": {},
   "source": [
    "# v. Data Preprocessing (Feature Engineering)"
   ]
  },
  {
   "cell_type": "markdown",
   "metadata": {},
   "source": [
    "### Split between X (Features/Variables) and y (Target/Label)"
   ]
  },
  {
   "cell_type": "code",
   "execution_count": 9,
   "metadata": {},
   "outputs": [
    {
     "name": "stdout",
     "output_type": "stream",
     "text": [
      "Index(['Name', 'Age', 'Height', 'Weight', 'ValueEUR', 'AttackingWorkRate',\n",
      "       'DefensiveWorkRate', 'PaceTotal', 'ShootingTotal', 'PassingTotal',\n",
      "       'DribblingTotal', 'DefendingTotal', 'PhysicalityTotal'],\n",
      "      dtype='object')\n",
      "0        93\n",
      "1        92\n",
      "2        91\n",
      "3        91\n",
      "4        91\n",
      "         ..\n",
      "19255    48\n",
      "19256    48\n",
      "19257    48\n",
      "19258    48\n",
      "19259    48\n",
      "Name: Overall, Length: 19156, dtype: int64\n"
     ]
    }
   ],
   "source": [
    "# Split X and y\n",
    "# X = df.drop(['Overall'],axis=1) # cara1\n",
    "# X = df.drop(columns=['Overall'])# cara2\n",
    "X =  df[['Name', 'Age', 'Height', 'Weight', 'ValueEUR', 'AttackingWorkRate', \n",
    "       'DefensiveWorkRate', 'PaceTotal', 'ShootingTotal', 'PassingTotal',\n",
    "       'DribblingTotal', 'DefendingTotal', 'PhysicalityTotal']] # cara3\n",
    "\n",
    "# y = df.Overall    # cara1\n",
    "y = df['Overall'] # cara2\n",
    "\n",
    "print(X.columns)\n",
    "print(y)"
   ]
  },
  {
   "cell_type": "markdown",
   "metadata": {},
   "source": [
    "### Split train set dan test set"
   ]
  },
  {
   "cell_type": "code",
   "execution_count": 10,
   "metadata": {},
   "outputs": [
    {
     "name": "stdout",
     "output_type": "stream",
     "text": [
      "Train-set: (15324, 13)\n",
      "Test-set: (3832, 13)\n"
     ]
    }
   ],
   "source": [
    "# Split train and test\n",
    "X_train, X_test, y_train, y_test = train_test_split(X, y, test_size=0.2, random_state=7)\n",
    "\n",
    "print('Train-set:',X_train.shape)\n",
    "print('Test-set:',X_test.shape)"
   ]
  },
  {
   "cell_type": "markdown",
   "metadata": {},
   "source": [
    "## a. Missing value handling"
   ]
  },
  {
   "cell_type": "code",
   "execution_count": 11,
   "metadata": {},
   "outputs": [
    {
     "data": {
      "text/plain": [
       "Name                 0\n",
       "Age                  0\n",
       "Height               0\n",
       "Weight               0\n",
       "ValueEUR             0\n",
       "AttackingWorkRate    0\n",
       "DefensiveWorkRate    0\n",
       "PaceTotal            0\n",
       "ShootingTotal        0\n",
       "PassingTotal         0\n",
       "DribblingTotal       0\n",
       "DefendingTotal       0\n",
       "PhysicalityTotal     0\n",
       "dtype: int64"
      ]
     },
     "execution_count": 11,
     "metadata": {},
     "output_type": "execute_result"
    }
   ],
   "source": [
    "X_train.isnull().sum()"
   ]
  },
  {
   "cell_type": "code",
   "execution_count": 12,
   "metadata": {},
   "outputs": [
    {
     "data": {
      "text/plain": [
       "Name                 0\n",
       "Age                  0\n",
       "Height               0\n",
       "Weight               0\n",
       "ValueEUR             0\n",
       "AttackingWorkRate    0\n",
       "DefensiveWorkRate    0\n",
       "PaceTotal            0\n",
       "ShootingTotal        0\n",
       "PassingTotal         0\n",
       "DribblingTotal       0\n",
       "DefendingTotal       0\n",
       "PhysicalityTotal     0\n",
       "dtype: int64"
      ]
     },
     "execution_count": 12,
     "metadata": {},
     "output_type": "execute_result"
    }
   ],
   "source": [
    "X_test.isnull().sum()"
   ]
  },
  {
   "cell_type": "code",
   "execution_count": 13,
   "metadata": {},
   "outputs": [
    {
     "data": {
      "text/plain": [
       "0"
      ]
     },
     "execution_count": 13,
     "metadata": {},
     "output_type": "execute_result"
    }
   ],
   "source": [
    "y_train.isnull().sum()"
   ]
  },
  {
   "cell_type": "code",
   "execution_count": 14,
   "metadata": {},
   "outputs": [
    {
     "data": {
      "text/plain": [
       "0"
      ]
     },
     "execution_count": 14,
     "metadata": {},
     "output_type": "execute_result"
    }
   ],
   "source": [
    "y_test.isnull().sum()"
   ]
  },
  {
   "cell_type": "markdown",
   "metadata": {},
   "source": [
    "## b. Outlier Handling"
   ]
  },
  {
   "cell_type": "code",
   "execution_count": 15,
   "metadata": {},
   "outputs": [
    {
     "data": {
      "text/html": [
       "<div>\n",
       "<style scoped>\n",
       "    .dataframe tbody tr th:only-of-type {\n",
       "        vertical-align: middle;\n",
       "    }\n",
       "\n",
       "    .dataframe tbody tr th {\n",
       "        vertical-align: top;\n",
       "    }\n",
       "\n",
       "    .dataframe thead th {\n",
       "        text-align: right;\n",
       "    }\n",
       "</style>\n",
       "<table border=\"1\" class=\"dataframe\">\n",
       "  <thead>\n",
       "    <tr style=\"text-align: right;\">\n",
       "      <th></th>\n",
       "      <th>Name</th>\n",
       "      <th>AttackingWorkRate</th>\n",
       "      <th>DefensiveWorkRate</th>\n",
       "    </tr>\n",
       "  </thead>\n",
       "  <tbody>\n",
       "    <tr>\n",
       "      <th>0</th>\n",
       "      <td>L. Messi</td>\n",
       "      <td>Medium</td>\n",
       "      <td>Low</td>\n",
       "    </tr>\n",
       "    <tr>\n",
       "      <th>1</th>\n",
       "      <td>R. Lewandowski</td>\n",
       "      <td>High</td>\n",
       "      <td>Medium</td>\n",
       "    </tr>\n",
       "    <tr>\n",
       "      <th>2</th>\n",
       "      <td>Cristiano Ronaldo</td>\n",
       "      <td>High</td>\n",
       "      <td>Low</td>\n",
       "    </tr>\n",
       "    <tr>\n",
       "      <th>3</th>\n",
       "      <td>K. Mbappé</td>\n",
       "      <td>High</td>\n",
       "      <td>Low</td>\n",
       "    </tr>\n",
       "    <tr>\n",
       "      <th>4</th>\n",
       "      <td>J. Oblak</td>\n",
       "      <td>Medium</td>\n",
       "      <td>Medium</td>\n",
       "    </tr>\n",
       "    <tr>\n",
       "      <th>...</th>\n",
       "      <td>...</td>\n",
       "      <td>...</td>\n",
       "      <td>...</td>\n",
       "    </tr>\n",
       "    <tr>\n",
       "      <th>19255</th>\n",
       "      <td>S. Black</td>\n",
       "      <td>Medium</td>\n",
       "      <td>Medium</td>\n",
       "    </tr>\n",
       "    <tr>\n",
       "      <th>19256</th>\n",
       "      <td>Ma Zhen</td>\n",
       "      <td>Medium</td>\n",
       "      <td>Medium</td>\n",
       "    </tr>\n",
       "    <tr>\n",
       "      <th>19257</th>\n",
       "      <td>Yang Haoyu</td>\n",
       "      <td>Medium</td>\n",
       "      <td>Medium</td>\n",
       "    </tr>\n",
       "    <tr>\n",
       "      <th>19258</th>\n",
       "      <td>He Siwei</td>\n",
       "      <td>Medium</td>\n",
       "      <td>Medium</td>\n",
       "    </tr>\n",
       "    <tr>\n",
       "      <th>19259</th>\n",
       "      <td>Chen Guoliang</td>\n",
       "      <td>Medium</td>\n",
       "      <td>Medium</td>\n",
       "    </tr>\n",
       "  </tbody>\n",
       "</table>\n",
       "<p>19156 rows × 3 columns</p>\n",
       "</div>"
      ],
      "text/plain": [
       "                    Name AttackingWorkRate DefensiveWorkRate\n",
       "0               L. Messi            Medium               Low\n",
       "1         R. Lewandowski              High            Medium\n",
       "2      Cristiano Ronaldo              High               Low\n",
       "3              K. Mbappé              High               Low\n",
       "4               J. Oblak            Medium            Medium\n",
       "...                  ...               ...               ...\n",
       "19255           S. Black            Medium            Medium\n",
       "19256            Ma Zhen            Medium            Medium\n",
       "19257         Yang Haoyu            Medium            Medium\n",
       "19258           He Siwei            Medium            Medium\n",
       "19259      Chen Guoliang            Medium            Medium\n",
       "\n",
       "[19156 rows x 3 columns]"
      ]
     },
     "execution_count": 15,
     "metadata": {},
     "output_type": "execute_result"
    }
   ],
   "source": [
    "# Detect categorical colums\n",
    "X[X.select_dtypes(include=['object']).columns]"
   ]
  },
  {
   "cell_type": "code",
   "execution_count": 16,
   "metadata": {},
   "outputs": [
    {
     "name": "stdout",
     "output_type": "stream",
     "text": [
      "skewness Age: 0.445\n",
      "skewness Height: -0.031\n",
      "skewness Weight: 0.249\n",
      "skewness ValueEUR: 8.265\n",
      "skewness PaceTotal: -0.507\n",
      "skewness ShootingTotal: -0.4\n",
      "skewness PassingTotal: -0.192\n",
      "skewness DribblingTotal: -0.521\n",
      "skewness DefendingTotal: -0.257\n",
      "skewness PhysicalityTotal: -0.402\n",
      "normal distribution: ['Age', 'Height', 'Weight', 'ShootingTotal', 'PassingTotal', 'DefendingTotal', 'PhysicalityTotal'].\n",
      "skew distribution: ['PaceTotal', 'DribblingTotal'] .\n",
      "extreme skew distribution:['ValueEUR'].\n"
     ]
    }
   ],
   "source": [
    "# Create looping to check distribution numerical dataset\n",
    "\n",
    "num = X.select_dtypes(exclude=['object']).columns.tolist()\n",
    "\n",
    "# Create empty list to contain/add/fill (menyimpan) column lists\n",
    "normal = []\n",
    "skew = []\n",
    "extreme = []\n",
    "for i in num:\n",
    "    print(f'skewness {i}: {round(X_train[i].skew(),3)}')\n",
    "\n",
    "    if abs(round(X_train[i].skew(),3)) > 1: #abs itu absolute syntax python\n",
    "        extreme.append(i)\n",
    "    elif abs(round(X_train[i].skew(),3)) > 0.5:\n",
    "        skew.append(i)\n",
    "    else:\n",
    "        normal.append(i)\n",
    "\n",
    "print(f'normal distribution: {normal}.') # cara 1\n",
    "print('skew distribution:',skew, '.') # cara 2\n",
    "print(f'extreme skew distribution:{extreme}.')"
   ]
  },
  {
   "cell_type": "markdown",
   "metadata": {},
   "source": [
    "Berdasarkan hasil di atas, kolom yang terdistribusi (Manual):  \n",
    "1. Normal (-0.5 s/d 0.5): `Age, Height, Weight, ShootingTotal, PassingTotal, DefendingTotal, PhysicalityTotal`  \n",
    "2. Moderately Skew (-0.5 s/d -1 atau 0.5 s/d 1): `PaceTotal,DribblingTotal`  \n",
    "3. Extreme Skew (> 1 atau < -1) : `ValueEUR`"
   ]
  },
  {
   "cell_type": "markdown",
   "metadata": {},
   "source": [
    "### Outlier checking for each distribution type"
   ]
  },
  {
   "cell_type": "markdown",
   "metadata": {},
   "source": [
    "### Normal check"
   ]
  },
  {
   "cell_type": "code",
   "execution_count": 17,
   "metadata": {},
   "outputs": [],
   "source": [
    "# Create function for normal distributed\n",
    "def calculate_normal_outliers(df, variable):\n",
    " \n",
    "    upper_boundary = df[variable].mean() + 3 * df[variable].std()\n",
    "    lower_boundary = df[variable].mean() - 3 * df[variable].std()\n",
    "        \n",
    "    outliers = df[(df[variable] < lower_boundary) | (df[variable] > upper_boundary)]\n",
    "    outliers_percentage = len(outliers) / len(df) * 100\n",
    "    \n",
    "    # print(f'upper: {upper_boundary}')\n",
    "    # print(f'lower: {lower_boundary}')\n",
    "    print(f'Outlier {variable} : {len(outliers)}')\n",
    "    print(f'% Outlier {variable} : {round(outliers_percentage,2)}%')\n"
   ]
  },
  {
   "cell_type": "code",
   "execution_count": 18,
   "metadata": {},
   "outputs": [
    {
     "name": "stdout",
     "output_type": "stream",
     "text": [
      "Outlier Age : 21\n",
      "% Outlier Age : 0.14%\n",
      "\n",
      "Outlier Height : 21\n",
      "% Outlier Height : 0.14%\n",
      "\n",
      "Outlier Weight : 43\n",
      "% Outlier Weight : 0.28%\n",
      "\n",
      "Outlier ShootingTotal : 0\n",
      "% Outlier ShootingTotal : 0.0%\n",
      "\n",
      "Outlier PassingTotal : 39\n",
      "% Outlier PassingTotal : 0.25%\n",
      "\n",
      "Outlier DefendingTotal : 0\n",
      "% Outlier DefendingTotal : 0.0%\n",
      "\n",
      "Outlier PhysicalityTotal : 28\n",
      "% Outlier PhysicalityTotal : 0.18%\n",
      "\n"
     ]
    }
   ],
   "source": [
    "for i in normal:\n",
    "    calculate_normal_outliers(X_train,i)\n",
    "    print('')"
   ]
  },
  {
   "cell_type": "code",
   "execution_count": 19,
   "metadata": {},
   "outputs": [
    {
     "data": {
      "text/plain": [
       "152"
      ]
     },
     "execution_count": 19,
     "metadata": {},
     "output_type": "execute_result"
    }
   ],
   "source": [
    "21+21+43+39+28\n"
   ]
  },
  {
   "cell_type": "code",
   "execution_count": 20,
   "metadata": {},
   "outputs": [
    {
     "data": {
      "text/plain": [
       "15172"
      ]
     },
     "execution_count": 20,
     "metadata": {},
     "output_type": "execute_result"
    }
   ],
   "source": [
    "X_train.shape[0] - 152"
   ]
  },
  {
   "cell_type": "markdown",
   "metadata": {},
   "source": [
    "Karena semuanya di bawah 5%, jadi di trimming(drop) saja."
   ]
  },
  {
   "cell_type": "markdown",
   "metadata": {},
   "source": [
    "### Skew & Extreme check"
   ]
  },
  {
   "cell_type": "code",
   "execution_count": 21,
   "metadata": {},
   "outputs": [],
   "source": [
    "# Create function for skew distributed\n",
    "def calculate_skewed_outliers(df, variable, distance):\n",
    "    IQR = df[variable].quantile(0.75) - df[variable].quantile(0.25)\n",
    "    lower_boundary = df[variable].quantile(0.25) - (IQR * distance)\n",
    "    upper_boundary = df[variable].quantile(0.75) + (IQR * distance)\n",
    "\n",
    "    outliers = df[(df[variable] < lower_boundary) | (df[variable] > upper_boundary)]\n",
    "    outliers_percentage = len(outliers) / len(df) * 100\n",
    "    \n",
    "    # print(f'upper: {upper_boundary}')\n",
    "    # print(f'lower: {lower_boundary}')\n",
    "    print(f'Outlier {variable} : {len(outliers)}')\n",
    "    print(f'% Outlier {variable} : {round(outliers_percentage,2)}%')"
   ]
  },
  {
   "cell_type": "markdown",
   "metadata": {},
   "source": [
    "#### Skew"
   ]
  },
  {
   "cell_type": "code",
   "execution_count": 22,
   "metadata": {},
   "outputs": [
    {
     "name": "stdout",
     "output_type": "stream",
     "text": [
      "Outlier PaceTotal : 358\n",
      "% Outlier PaceTotal : 2.34%\n"
     ]
    }
   ],
   "source": [
    "# cara 1, manually calling function\n",
    "calculate_skewed_outliers(X_train,'PaceTotal',1.5) "
   ]
  },
  {
   "cell_type": "code",
   "execution_count": 23,
   "metadata": {},
   "outputs": [
    {
     "name": "stdout",
     "output_type": "stream",
     "text": [
      "Outlier PaceTotal : 358\n",
      "% Outlier PaceTotal : 2.34%\n",
      "\n",
      "Outlier DribblingTotal : 560\n",
      "% Outlier DribblingTotal : 3.65%\n",
      "\n"
     ]
    }
   ],
   "source": [
    "# cara 2, using loop to calling function\n",
    "for i in skew:\n",
    "    calculate_skewed_outliers(X_train,i,1.5)\n",
    "    print('')"
   ]
  },
  {
   "cell_type": "code",
   "execution_count": 24,
   "metadata": {},
   "outputs": [
    {
     "data": {
      "text/plain": [
       "<Axes: ylabel='Frequency'>"
      ]
     },
     "execution_count": 24,
     "metadata": {},
     "output_type": "execute_result"
    },
    {
     "data": {
      "image/png": "[encoded data removed]",
      "text/plain": [
       "<Figure size 640x480 with 1 Axes>"
      ]
     },
     "metadata": {},
     "output_type": "display_data"
    }
   ],
   "source": [
    "# Visualisasi sederhana \n",
    "X_train.PaceTotal.plot(kind='hist')"
   ]
  },
  {
   "cell_type": "code",
   "execution_count": 25,
   "metadata": {},
   "outputs": [
    {
     "data": {
      "text/plain": [
       "<Axes: >"
      ]
     },
     "execution_count": 25,
     "metadata": {},
     "output_type": "execute_result"
    },
    {
     "data": {
      "image/png": "[encoded data removed]",
      "text/plain": [
       "<Figure size 640x480 with 1 Axes>"
      ]
     },
     "metadata": {},
     "output_type": "display_data"
    }
   ],
   "source": [
    "# Visualisasi sederhana\n",
    "X_train.DribblingTotal.plot(kind='box')"
   ]
  },
  {
   "cell_type": "markdown",
   "metadata": {},
   "source": [
    "Karena outliers untuk features `PaceTotal` dan `DribblingTotal` di bawah 5%, handling nya akan menggunakan metode trimming."
   ]
  },
  {
   "cell_type": "markdown",
   "metadata": {},
   "source": [
    "#### Extreme skew"
   ]
  },
  {
   "cell_type": "code",
   "execution_count": 26,
   "metadata": {},
   "outputs": [
    {
     "name": "stdout",
     "output_type": "stream",
     "text": [
      "Outlier ValueEUR : 1211\n",
      "% Outlier ValueEUR : 7.9%\n",
      "\n"
     ]
    }
   ],
   "source": [
    "# cara 2, using loop to calling function\n",
    "for i in extreme:\n",
    "    calculate_skewed_outliers(X_train,i,3)\n",
    "    print('')"
   ]
  },
  {
   "cell_type": "markdown",
   "metadata": {},
   "source": [
    "Karena outliernya >5%, outliers akan dihandling menggunakan metode capping dengan bantuan library `winsorizer` dari `feature-engine`."
   ]
  },
  {
   "cell_type": "markdown",
   "metadata": {},
   "source": [
    "### Handling with trimming method"
   ]
  },
  {
   "cell_type": "code",
   "execution_count": 27,
   "metadata": {},
   "outputs": [],
   "source": [
    "Trim_normal_features_list = ['Age',\n",
    " 'Height',\n",
    " 'Weight',\n",
    " 'ShootingTotal',\n",
    " 'PassingTotal',\n",
    " 'DefendingTotal',\n",
    " 'PhysicalityTotal'] \n",
    "Trim_skew_features_list = ['PaceTotal', 'DribblingTotal']"
   ]
  },
  {
   "cell_type": "code",
   "execution_count": 28,
   "metadata": {},
   "outputs": [],
   "source": [
    "def drop_normal_outliers(df, variable):\n",
    "    upper_boundary = df[variable].mean() + 3 * df[variable].std()\n",
    "    lower_boundary = df[variable].mean() - 3 * df[variable].std()\n",
    "    df.drop(df[(df[variable] < lower_boundary) | (df[variable] > upper_boundary)].index, inplace=True)\n",
    "      \n",
    "def drop_skew_outliers(df, variable,distance):\n",
    "    IQR = df[variable].quantile(0.75) - df[variable].quantile(0.25)\n",
    "    lower_boundary = df[variable].quantile(0.25) - (IQR * distance)\n",
    "    upper_boundary = df[variable].quantile(0.75) + (IQR * distance)\n",
    "    df.drop(df[(df[variable] < lower_boundary) | (df[variable] > upper_boundary)].index,inplace=True)\n",
    "    "
   ]
  },
  {
   "cell_type": "code",
   "execution_count": 29,
   "metadata": {},
   "outputs": [
    {
     "name": "stdout",
     "output_type": "stream",
     "text": [
      "Before trim: (15173, 13)\n"
     ]
    }
   ],
   "source": [
    "for i in Trim_normal_features_list:\n",
    "    drop_normal_outliers(X_train,i)\n",
    "\n",
    "print(f'Before trim: {X_train.shape}') "
   ]
  },
  {
   "cell_type": "code",
   "execution_count": 30,
   "metadata": {},
   "outputs": [
    {
     "name": "stdout",
     "output_type": "stream",
     "text": [
      "Before trim: (14344, 13)\n"
     ]
    }
   ],
   "source": [
    "for i in Trim_skew_features_list:\n",
    "    drop_skew_outliers(X_train,i,1.5)\n",
    "\n",
    "print(f'Before trim: {X_train.shape}') "
   ]
  },
  {
   "cell_type": "code",
   "execution_count": 31,
   "metadata": {},
   "outputs": [
    {
     "data": {
      "text/plain": [
       "14223"
      ]
     },
     "execution_count": 31,
     "metadata": {},
     "output_type": "execute_result"
    }
   ],
   "source": [
    "# masih belum sesuai dengan yg terdeksi di atas\n",
    "15141-(358+560)"
   ]
  },
  {
   "cell_type": "code",
   "execution_count": 32,
   "metadata": {},
   "outputs": [],
   "source": [
    "y_train = y_train.loc[X_train.index]"
   ]
  },
  {
   "cell_type": "markdown",
   "metadata": {},
   "source": [
    "### Handling with capping method (winsorizer)"
   ]
  },
  {
   "cell_type": "code",
   "execution_count": 33,
   "metadata": {},
   "outputs": [],
   "source": [
    "# Capping for `ValueEUR` feature\n",
    "\n",
    "winsoriser_value = Winsorizer(capping_method='iqr',\n",
    "                             tail='both',\n",
    "                             fold=3,\n",
    "                             variables=['ValueEUR'])\n",
    "\n",
    "X_train_capped = winsoriser_value.fit_transform(X_train)"
   ]
  },
  {
   "cell_type": "markdown",
   "metadata": {},
   "source": [
    "## c.Feature Selection"
   ]
  },
  {
   "cell_type": "code",
   "execution_count": 34,
   "metadata": {},
   "outputs": [
    {
     "data": {
      "text/plain": [
       "Index(['Name', 'Age', 'Height', 'Weight', 'ValueEUR', 'AttackingWorkRate',\n",
       "       'DefensiveWorkRate', 'PaceTotal', 'ShootingTotal', 'PassingTotal',\n",
       "       'DribblingTotal', 'DefendingTotal', 'PhysicalityTotal', 'Overall'],\n",
       "      dtype='object')"
      ]
     },
     "execution_count": 34,
     "metadata": {},
     "output_type": "execute_result"
    }
   ],
   "source": [
    "# Concat features and target to check correlation\n",
    "corr = pd.concat([X_train,y_train],axis=1)\n",
    "corr.columns"
   ]
  },
  {
   "cell_type": "code",
   "execution_count": 35,
   "metadata": {},
   "outputs": [
    {
     "name": "stdout",
     "output_type": "stream",
     "text": [
      "interval columns not set, guessing: ['Age', 'Height', 'Weight', 'ValueEUR', 'PaceTotal', 'ShootingTotal', 'PassingTotal', 'DribblingTotal', 'DefendingTotal', 'PhysicalityTotal', 'Overall']\n"
     ]
    },
    {
     "data": {
      "text/plain": [
       "Name                 0.480956\n",
       "Age                  0.532574\n",
       "Height               0.076597\n",
       "Weight               0.197894\n",
       "ValueEUR             0.875903\n",
       "AttackingWorkRate    0.213354\n",
       "DefensiveWorkRate    0.217595\n",
       "PaceTotal            0.355249\n",
       "ShootingTotal        0.742817\n",
       "PassingTotal         0.745910\n",
       "DribblingTotal       0.785039\n",
       "DefendingTotal       0.716781\n",
       "PhysicalityTotal     0.627627\n",
       "Overall              1.000000\n",
       "Name: Overall, dtype: float64"
      ]
     },
     "execution_count": 35,
     "metadata": {},
     "output_type": "execute_result"
    }
   ],
   "source": [
    "# Check correlation\n",
    "corr.phik_matrix()['Overall']"
   ]
  },
  {
   "cell_type": "markdown",
   "metadata": {},
   "source": [
    "Drop features yang < 5 = ['Name','Height','Weight','PaceTotal'] . Kusus ['AttackingWorkRate','DefensiveWorkRate'] tidak di drop karena supaya belajar untuk coba encode categorical column."
   ]
  },
  {
   "cell_type": "code",
   "execution_count": 36,
   "metadata": {},
   "outputs": [],
   "source": [
    "# Drop unnecessary columns in X_train\n",
    "X_train.drop(['Name','Height','Weight','PaceTotal'], axis=1, inplace=True)\n",
    "\n",
    "# Drop unnecessary columns in X_test\n",
    "X_test.drop(['Name','Height','Weight','PaceTotal'], axis=1, inplace=True)"
   ]
  },
  {
   "cell_type": "code",
   "execution_count": 37,
   "metadata": {},
   "outputs": [
    {
     "data": {
      "text/plain": [
       "Index(['Age', 'ValueEUR', 'AttackingWorkRate', 'DefensiveWorkRate',\n",
       "       'ShootingTotal', 'PassingTotal', 'DribblingTotal', 'DefendingTotal',\n",
       "       'PhysicalityTotal'],\n",
       "      dtype='object')"
      ]
     },
     "execution_count": 37,
     "metadata": {},
     "output_type": "execute_result"
    }
   ],
   "source": [
    "X_train.columns"
   ]
  },
  {
   "cell_type": "markdown",
   "metadata": {},
   "source": [
    "## d. Split Numerical and Categorical Columns"
   ]
  },
  {
   "cell_type": "code",
   "execution_count": 41,
   "metadata": {},
   "outputs": [
    {
     "name": "stdout",
     "output_type": "stream",
     "text": [
      "['Age', 'ShootingTotal', 'PassingTotal', 'DribblingTotal', 'DefendingTotal', 'PhysicalityTotal']\n",
      "['ValueEUR']\n",
      "['AttackingWorkRate', 'DefensiveWorkRate']\n"
     ]
    }
   ],
   "source": [
    "num_col = ['Age', 'ShootingTotal', 'PassingTotal', 'DribblingTotal', 'DefendingTotal', 'PhysicalityTotal','ValueEUR']\n",
    "\n",
    "num_col_std = ['Age', 'ShootingTotal', 'PassingTotal', 'DribblingTotal', 'DefendingTotal', 'PhysicalityTotal']\n",
    "num_col_rbs = ['ValueEUR']\n",
    "# cat_col = X_train.select_dtypes(include=['object']).columns.tolist() # cara 1\n",
    "cat_col = ['AttackingWorkRate', 'DefensiveWorkRate'] # cara 2\n",
    "\n",
    "print(num_col_std)\n",
    "print(num_col_rbs)\n",
    "print(cat_col)\n"
   ]
  },
  {
   "cell_type": "markdown",
   "metadata": {},
   "source": [
    "## e. Cardinality Check"
   ]
  },
  {
   "cell_type": "code",
   "execution_count": 42,
   "metadata": {},
   "outputs": [
    {
     "name": "stdout",
     "output_type": "stream",
     "text": [
      "AttackingWorkRate : 3\n",
      "DefensiveWorkRate : 3\n"
     ]
    }
   ],
   "source": [
    "# Countin unique value for each categorical columns\n",
    "for i in cat_col:\n",
    "    print(f'{i} : {X_train[i].nunique()}')"
   ]
  },
  {
   "cell_type": "markdown",
   "metadata": {},
   "source": [
    "Dari hasil di atas, terdapat 3 untuk setiap cat col, bisa di simpulkan dataset ini low cardinality dan tidak perlu handling/reduce cardinality."
   ]
  },
  {
   "cell_type": "markdown",
   "metadata": {},
   "source": [
    "PS: High cardinality itu biasanya jika terdapat nunique yang >11."
   ]
  },
  {
   "cell_type": "markdown",
   "metadata": {},
   "source": [
    "## f. Feature Scaling"
   ]
  },
  {
   "cell_type": "code",
   "execution_count": 43,
   "metadata": {},
   "outputs": [
    {
     "name": "stdout",
     "output_type": "stream",
     "text": [
      "normal distribution: ['Age', 'ShootingTotal', 'PassingTotal', 'DribblingTotal', 'DefendingTotal', 'PhysicalityTotal'].\n",
      "skew distribution: [] .\n",
      "extreme skew distribution:['ValueEUR'].\n"
     ]
    }
   ],
   "source": [
    "# Create empty list to contain/add/fill (menyimpan) column lists\n",
    "normal = []\n",
    "skew = []\n",
    "extreme = []\n",
    "for i in num_col:\n",
    "    # print(f'skewness {i}: {round(X_train[i].skew(),3)}')\n",
    "\n",
    "    if abs(round(X_train[i].skew(),3)) > 1: #abs itu absolute syntax python\n",
    "        extreme.append(i)\n",
    "    elif abs(round(X_train[i].skew(),3)) > 0.5:\n",
    "        skew.append(i)\n",
    "    else:\n",
    "        normal.append(i)\n",
    "\n",
    "print(f'normal distribution: {normal}.') # cara 1\n",
    "print('skew distribution:',skew, '.') # cara 2\n",
    "print(f'extreme skew distribution:{extreme}.')"
   ]
  },
  {
   "cell_type": "code",
   "execution_count": 44,
   "metadata": {},
   "outputs": [],
   "source": [
    "# Define X_train_num\n",
    "X_train_num_std = X_train[num_col_std]\n",
    "X_test_num_std = X_test[num_col_std]\n",
    "\n",
    "X_train_num_rbs = X_train[num_col_rbs]\n",
    "X_test_num_rbs = X_test[num_col_rbs]\n",
    "\n",
    "# Define scaling method\n",
    "std_scaler = StandardScaler()\n",
    "rbs_scaler = RobustScaler()\n",
    "\n",
    "# Standard Scaler\n",
    "std_scaler.fit(X_train_num_std) # .fit hanya untuk X_train\n",
    "\n",
    "X_train_num_std_scaled = std_scaler.transform(X_train_num_std)\n",
    "X_test_num_std_scaled = std_scaler.transform(X_test_num_std)\n",
    "\n",
    "# Robust Scaler\n",
    "rbs_scaler.fit(X_train_num_rbs) # .fit hanya untuk X_train\n",
    "\n",
    "X_train_num_rbs_scaled = rbs_scaler.transform(X_train_num_rbs)\n",
    "X_test_num_rbs_scaled = rbs_scaler.transform(X_test_num_rbs)"
   ]
  },
  {
   "cell_type": "markdown",
   "metadata": {},
   "source": [
    "## g. Feature Encoding\n"
   ]
  },
  {
   "cell_type": "markdown",
   "metadata": {},
   "source": [
    "pakai ordinal karena data nya ordinal"
   ]
  },
  {
   "cell_type": "code",
   "execution_count": 45,
   "metadata": {},
   "outputs": [],
   "source": [
    "# Define X_train_cat\n",
    "X_train_cat = X_train[cat_col]\n",
    "X_test_cat = X_test[cat_col]\n",
    "\n",
    "# Define encoding method\n",
    "encoder = OrdinalEncoder(categories=[['Low','Medium','High'],\n",
    "                                     ['Low','Medium','High']])\n",
    "\n",
    "# .fit_transform -> train set & .transform -> test set\n",
    "X_train_cat_encoded = encoder.fit_transform(X_train_cat)\n",
    "X_test_cat_encoded = encoder.transform(X_test_cat)\n"
   ]
  },
  {
   "cell_type": "markdown",
   "metadata": {},
   "source": [
    "## h. Concat"
   ]
  },
  {
   "cell_type": "code",
   "execution_count": 46,
   "metadata": {},
   "outputs": [
    {
     "data": {
      "text/plain": [
       "array([[-0.87842344, -1.33302288, -1.25907031, ..., -0.296875  ,\n",
       "         1.        ,  1.        ],\n",
       "       [-0.2264915 ,  0.28014511,  0.17647986, ..., -0.078125  ,\n",
       "         1.        ,  1.        ],\n",
       "       [ 1.51199365,  0.20332759, -0.81736256, ..., -0.5625    ,\n",
       "         1.        ,  1.        ],\n",
       "       ...,\n",
       "       [ 0.20812978,  0.8946853 ,  1.17032228, ...,  0.4375    ,\n",
       "         1.        ,  1.        ],\n",
       "       [-0.44380215,  0.51059768,  0.28690679, ...,  0.25      ,\n",
       "         1.        ,  1.        ],\n",
       "       [ 1.7293043 ,  0.04969254, -0.26522789, ..., -0.58125   ,\n",
       "         1.        ,  1.        ]])"
      ]
     },
     "execution_count": 46,
     "metadata": {},
     "output_type": "execute_result"
    }
   ],
   "source": [
    "# concat all X_train and X_test\n",
    "X_train_final = np.concatenate([X_train_num_std_scaled,X_train_num_rbs_scaled,X_train_cat_encoded],axis=1)\n",
    "X_test_final = np.concatenate([X_test_num_std_scaled,X_test_num_rbs_scaled,X_test_cat_encoded],axis=1)\n",
    "X_train_final"
   ]
  },
  {
   "cell_type": "code",
   "execution_count": 47,
   "metadata": {},
   "outputs": [
    {
     "data": {
      "text/html": [
       "<div>\n",
       "<style scoped>\n",
       "    .dataframe tbody tr th:only-of-type {\n",
       "        vertical-align: middle;\n",
       "    }\n",
       "\n",
       "    .dataframe tbody tr th {\n",
       "        vertical-align: top;\n",
       "    }\n",
       "\n",
       "    .dataframe thead th {\n",
       "        text-align: right;\n",
       "    }\n",
       "</style>\n",
       "<table border=\"1\" class=\"dataframe\">\n",
       "  <thead>\n",
       "    <tr style=\"text-align: right;\">\n",
       "      <th></th>\n",
       "      <th>0</th>\n",
       "      <th>1</th>\n",
       "      <th>2</th>\n",
       "      <th>3</th>\n",
       "      <th>4</th>\n",
       "      <th>5</th>\n",
       "      <th>6</th>\n",
       "      <th>7</th>\n",
       "      <th>8</th>\n",
       "    </tr>\n",
       "  </thead>\n",
       "  <tbody>\n",
       "    <tr>\n",
       "      <th>0</th>\n",
       "      <td>-0.878423</td>\n",
       "      <td>-1.333023</td>\n",
       "      <td>-1.259070</td>\n",
       "      <td>-0.827935</td>\n",
       "      <td>0.516513</td>\n",
       "      <td>-0.677778</td>\n",
       "      <td>-0.296875</td>\n",
       "      <td>1.0</td>\n",
       "      <td>1.0</td>\n",
       "    </tr>\n",
       "    <tr>\n",
       "      <th>1</th>\n",
       "      <td>-0.226492</td>\n",
       "      <td>0.280145</td>\n",
       "      <td>0.176480</td>\n",
       "      <td>0.492089</td>\n",
       "      <td>0.273557</td>\n",
       "      <td>-0.048872</td>\n",
       "      <td>-0.078125</td>\n",
       "      <td>1.0</td>\n",
       "      <td>1.0</td>\n",
       "    </tr>\n",
       "    <tr>\n",
       "      <th>2</th>\n",
       "      <td>1.511994</td>\n",
       "      <td>0.203328</td>\n",
       "      <td>-0.817363</td>\n",
       "      <td>-0.587930</td>\n",
       "      <td>-0.273092</td>\n",
       "      <td>-0.887414</td>\n",
       "      <td>-0.562500</td>\n",
       "      <td>1.0</td>\n",
       "      <td>1.0</td>\n",
       "    </tr>\n",
       "    <tr>\n",
       "      <th>3</th>\n",
       "      <td>-1.095734</td>\n",
       "      <td>-2.178016</td>\n",
       "      <td>-2.142486</td>\n",
       "      <td>-2.627968</td>\n",
       "      <td>0.637990</td>\n",
       "      <td>-0.258508</td>\n",
       "      <td>-0.312500</td>\n",
       "      <td>1.0</td>\n",
       "      <td>1.0</td>\n",
       "    </tr>\n",
       "    <tr>\n",
       "      <th>4</th>\n",
       "      <td>0.860062</td>\n",
       "      <td>0.664233</td>\n",
       "      <td>1.391176</td>\n",
       "      <td>1.092100</td>\n",
       "      <td>1.852766</td>\n",
       "      <td>2.257118</td>\n",
       "      <td>13.125000</td>\n",
       "      <td>1.0</td>\n",
       "      <td>2.0</td>\n",
       "    </tr>\n",
       "    <tr>\n",
       "      <th>...</th>\n",
       "      <td>...</td>\n",
       "      <td>...</td>\n",
       "      <td>...</td>\n",
       "      <td>...</td>\n",
       "      <td>...</td>\n",
       "      <td>...</td>\n",
       "      <td>...</td>\n",
       "      <td>...</td>\n",
       "      <td>...</td>\n",
       "    </tr>\n",
       "    <tr>\n",
       "      <th>14339</th>\n",
       "      <td>1.946615</td>\n",
       "      <td>0.664233</td>\n",
       "      <td>-0.154801</td>\n",
       "      <td>-0.227924</td>\n",
       "      <td>-1.244913</td>\n",
       "      <td>0.055946</td>\n",
       "      <td>-0.506250</td>\n",
       "      <td>2.0</td>\n",
       "      <td>1.0</td>\n",
       "    </tr>\n",
       "    <tr>\n",
       "      <th>14340</th>\n",
       "      <td>1.294683</td>\n",
       "      <td>1.893313</td>\n",
       "      <td>1.943311</td>\n",
       "      <td>1.812113</td>\n",
       "      <td>-0.880480</td>\n",
       "      <td>-0.468143</td>\n",
       "      <td>5.000000</td>\n",
       "      <td>1.0</td>\n",
       "      <td>0.0</td>\n",
       "    </tr>\n",
       "    <tr>\n",
       "      <th>14341</th>\n",
       "      <td>0.208130</td>\n",
       "      <td>0.894685</td>\n",
       "      <td>1.170322</td>\n",
       "      <td>0.732094</td>\n",
       "      <td>0.516513</td>\n",
       "      <td>0.580034</td>\n",
       "      <td>0.437500</td>\n",
       "      <td>1.0</td>\n",
       "      <td>1.0</td>\n",
       "    </tr>\n",
       "    <tr>\n",
       "      <th>14342</th>\n",
       "      <td>-0.443802</td>\n",
       "      <td>0.510598</td>\n",
       "      <td>0.286907</td>\n",
       "      <td>0.612092</td>\n",
       "      <td>-2.034517</td>\n",
       "      <td>-0.153690</td>\n",
       "      <td>0.250000</td>\n",
       "      <td>1.0</td>\n",
       "      <td>1.0</td>\n",
       "    </tr>\n",
       "    <tr>\n",
       "      <th>14343</th>\n",
       "      <td>1.729304</td>\n",
       "      <td>0.049693</td>\n",
       "      <td>-0.265228</td>\n",
       "      <td>-0.947937</td>\n",
       "      <td>-0.455308</td>\n",
       "      <td>-0.887414</td>\n",
       "      <td>-0.581250</td>\n",
       "      <td>1.0</td>\n",
       "      <td>1.0</td>\n",
       "    </tr>\n",
       "  </tbody>\n",
       "</table>\n",
       "<p>14344 rows × 9 columns</p>\n",
       "</div>"
      ],
      "text/plain": [
       "              0         1         2         3         4         5          6  \\\n",
       "0     -0.878423 -1.333023 -1.259070 -0.827935  0.516513 -0.677778  -0.296875   \n",
       "1     -0.226492  0.280145  0.176480  0.492089  0.273557 -0.048872  -0.078125   \n",
       "2      1.511994  0.203328 -0.817363 -0.587930 -0.273092 -0.887414  -0.562500   \n",
       "3     -1.095734 -2.178016 -2.142486 -2.627968  0.637990 -0.258508  -0.312500   \n",
       "4      0.860062  0.664233  1.391176  1.092100  1.852766  2.257118  13.125000   \n",
       "...         ...       ...       ...       ...       ...       ...        ...   \n",
       "14339  1.946615  0.664233 -0.154801 -0.227924 -1.244913  0.055946  -0.506250   \n",
       "14340  1.294683  1.893313  1.943311  1.812113 -0.880480 -0.468143   5.000000   \n",
       "14341  0.208130  0.894685  1.170322  0.732094  0.516513  0.580034   0.437500   \n",
       "14342 -0.443802  0.510598  0.286907  0.612092 -2.034517 -0.153690   0.250000   \n",
       "14343  1.729304  0.049693 -0.265228 -0.947937 -0.455308 -0.887414  -0.581250   \n",
       "\n",
       "         7    8  \n",
       "0      1.0  1.0  \n",
       "1      1.0  1.0  \n",
       "2      1.0  1.0  \n",
       "3      1.0  1.0  \n",
       "4      1.0  2.0  \n",
       "...    ...  ...  \n",
       "14339  2.0  1.0  \n",
       "14340  1.0  0.0  \n",
       "14341  1.0  1.0  \n",
       "14342  1.0  1.0  \n",
       "14343  1.0  1.0  \n",
       "\n",
       "[14344 rows x 9 columns]"
      ]
     },
     "execution_count": 47,
     "metadata": {},
     "output_type": "execute_result"
    }
   ],
   "source": [
    "# (opsional) di rubah dalam bentuk dataframe\n",
    "X_train_final_df = pd.DataFrame(X_train_final)\n",
    "X_train_final_df\n"
   ]
  },
  {
   "cell_type": "markdown",
   "metadata": {},
   "source": [
    "# vi. Model Definition"
   ]
  },
  {
   "cell_type": "markdown",
   "metadata": {},
   "source": [
    "Notes:  \n",
    "1. Algoritma/Model yang digunakan : [contoh] `LinearRegression`.\n",
    "   - Alasan? kelebihan kelemahan, datanya, cocok karena feature nya...\n",
    "2. Metrics yang digunakan : [contoh] `MAE` (Mean Absolute Error)\n",
    "   - Alasan"
   ]
  },
  {
   "cell_type": "code",
   "execution_count": 49,
   "metadata": {},
   "outputs": [],
   "source": [
    "# Define the model\n",
    "model_lin = LinearRegression()"
   ]
  },
  {
   "cell_type": "markdown",
   "metadata": {},
   "source": [
    "# vii. Model Training"
   ]
  },
  {
   "cell_type": "code",
   "execution_count": 50,
   "metadata": {},
   "outputs": [
    {
     "data": {
      "text/html": [
       "<style>#sk-container-id-1 {color: black;}#sk-container-id-1 pre{padding: 0;}#sk-container-id-1 div.sk-toggleable {background-color: white;}#sk-container-id-1 label.sk-toggleable__label {cursor: pointer;display: block;width: 100%;margin-bottom: 0;padding: 0.3em;box-sizing: border-box;text-align: center;}#sk-container-id-1 label.sk-toggleable__label-arrow:before {content: \"▸\";float: left;margin-right: 0.25em;color: #696969;}#sk-container-id-1 label.sk-toggleable__label-arrow:hover:before {color: black;}#sk-container-id-1 div.sk-estimator:hover label.sk-toggleable__label-arrow:before {color: black;}#sk-container-id-1 div.sk-toggleable__content {max-height: 0;max-width: 0;overflow: hidden;text-align: left;background-color: #f0f8ff;}#sk-container-id-1 div.sk-toggleable__content pre {margin: 0.2em;color: black;border-radius: 0.25em;background-color: #f0f8ff;}#sk-container-id-1 input.sk-toggleable__control:checked~div.sk-toggleable__content {max-height: 200px;max-width: 100%;overflow: auto;}#sk-container-id-1 input.sk-toggleable__control:checked~label.sk-toggleable__label-arrow:before {content: \"▾\";}#sk-container-id-1 div.sk-estimator input.sk-toggleable__control:checked~label.sk-toggleable__label {background-color: #d4ebff;}#sk-container-id-1 div.sk-label input.sk-toggleable__control:checked~label.sk-toggleable__label {background-color: #d4ebff;}#sk-container-id-1 input.sk-hidden--visually {border: 0;clip: rect(1px 1px 1px 1px);clip: rect(1px, 1px, 1px, 1px);height: 1px;margin: -1px;overflow: hidden;padding: 0;position: absolute;width: 1px;}#sk-container-id-1 div.sk-estimator {font-family: monospace;background-color: #f0f8ff;border: 1px dotted black;border-radius: 0.25em;box-sizing: border-box;margin-bottom: 0.5em;}#sk-container-id-1 div.sk-estimator:hover {background-color: #d4ebff;}#sk-container-id-1 div.sk-parallel-item::after {content: \"\";width: 100%;border-bottom: 1px solid gray;flex-grow: 1;}#sk-container-id-1 div.sk-label:hover label.sk-toggleable__label {background-color: #d4ebff;}#sk-container-id-1 div.sk-serial::before {content: \"\";position: absolute;border-left: 1px solid gray;box-sizing: border-box;top: 0;bottom: 0;left: 50%;z-index: 0;}#sk-container-id-1 div.sk-serial {display: flex;flex-direction: column;align-items: center;background-color: white;padding-right: 0.2em;padding-left: 0.2em;position: relative;}#sk-container-id-1 div.sk-item {position: relative;z-index: 1;}#sk-container-id-1 div.sk-parallel {display: flex;align-items: stretch;justify-content: center;background-color: white;position: relative;}#sk-container-id-1 div.sk-item::before, #sk-container-id-1 div.sk-parallel-item::before {content: \"\";position: absolute;border-left: 1px solid gray;box-sizing: border-box;top: 0;bottom: 0;left: 50%;z-index: -1;}#sk-container-id-1 div.sk-parallel-item {display: flex;flex-direction: column;z-index: 1;position: relative;background-color: white;}#sk-container-id-1 div.sk-parallel-item:first-child::after {align-self: flex-end;width: 50%;}#sk-container-id-1 div.sk-parallel-item:last-child::after {align-self: flex-start;width: 50%;}#sk-container-id-1 div.sk-parallel-item:only-child::after {width: 0;}#sk-container-id-1 div.sk-dashed-wrapped {border: 1px dashed gray;margin: 0 0.4em 0.5em 0.4em;box-sizing: border-box;padding-bottom: 0.4em;background-color: white;}#sk-container-id-1 div.sk-label label {font-family: monospace;font-weight: bold;display: inline-block;line-height: 1.2em;}#sk-container-id-1 div.sk-label-container {text-align: center;}#sk-container-id-1 div.sk-container {/* jupyter's `normalize.less` sets `[hidden] { display: none; }` but bootstrap.min.css set `[hidden] { display: none !important; }` so we also need the `!important` here to be able to override the default hidden behavior on the sphinx rendered scikit-learn.org. See: https://github.com/scikit-learn/scikit-learn/issues/21755 */display: inline-block !important;position: relative;}#sk-container-id-1 div.sk-text-repr-fallback {display: none;}</style><div id=\"sk-container-id-1\" class=\"sk-top-container\"><div class=\"sk-text-repr-fallback\"><pre>LinearRegression()</pre><b>In a Jupyter environment, please rerun this cell to show the HTML representation or trust the notebook. <br />On GitHub, the HTML representation is unable to render, please try loading this page with nbviewer.org.</b></div><div class=\"sk-container\" hidden><div class=\"sk-item\"><div class=\"sk-estimator sk-toggleable\"><input class=\"sk-toggleable__control sk-hidden--visually\" id=\"sk-estimator-id-1\" type=\"checkbox\" checked><label for=\"sk-estimator-id-1\" class=\"sk-toggleable__label sk-toggleable__label-arrow\">LinearRegression</label><div class=\"sk-toggleable__content\"><pre>LinearRegression()</pre></div></div></div></div></div>"
      ],
      "text/plain": [
       "LinearRegression()"
      ]
     },
     "execution_count": 50,
     "metadata": {},
     "output_type": "execute_result"
    }
   ],
   "source": [
    "# Train the model Linear\n",
    "model_lin.fit(X_train_final, y_train)"
   ]
  },
  {
   "cell_type": "markdown",
   "metadata": {},
   "source": [
    "# viii. Model Evaluation"
   ]
  },
  {
   "cell_type": "code",
   "execution_count": 51,
   "metadata": {},
   "outputs": [],
   "source": [
    "# Predict train-set dan test-set\n",
    "y_pred_train = model_lin.predict(X_train_final)\n",
    "y_pred_test = model_lin.predict(X_test_final)"
   ]
  },
  {
   "cell_type": "markdown",
   "metadata": {},
   "source": [
    "#### (opsional) tampilin hasil prediksi"
   ]
  },
  {
   "cell_type": "code",
   "execution_count": 52,
   "metadata": {},
   "outputs": [
    {
     "data": {
      "text/plain": [
       "array([60.75555987, 67.27551875, 62.33756477, ..., 70.60194383,\n",
       "       64.33054397, 61.16263448])"
      ]
     },
     "execution_count": 52,
     "metadata": {},
     "output_type": "execute_result"
    }
   ],
   "source": [
    "y_pred_train"
   ]
  },
  {
   "cell_type": "code",
   "execution_count": 53,
   "metadata": {},
   "outputs": [
    {
     "data": {
      "text/plain": [
       "array([64.3335355 , 64.02210958, 70.42533337, ..., 61.14002441,\n",
       "       65.17844291, 72.45656675])"
      ]
     },
     "execution_count": 53,
     "metadata": {},
     "output_type": "execute_result"
    }
   ],
   "source": [
    "y_pred_test"
   ]
  },
  {
   "cell_type": "code",
   "execution_count": 55,
   "metadata": {},
   "outputs": [
    {
     "name": "stdout",
     "output_type": "stream",
     "text": [
      "Error - train set:2.223378008496891\n",
      "Error - test set:2.36764180128085\n"
     ]
    }
   ],
   "source": [
    "# Evaluate model using MAE\n",
    "print(f'Error - train set:{mean_absolute_error(y_pred_train,y_train)}')\n",
    "print(f'Error - test set:{mean_absolute_error(y_pred_test,y_test)}')"
   ]
  },
  {
   "cell_type": "code",
   "execution_count": 56,
   "metadata": {},
   "outputs": [
    {
     "data": {
      "text/plain": [
       "67.64"
      ]
     },
     "execution_count": 56,
     "metadata": {},
     "output_type": "execute_result"
    }
   ],
   "source": [
    "70-2.36"
   ]
  },
  {
   "cell_type": "markdown",
   "metadata": {},
   "source": [
    "stetement??? -> mae 2.36 (test) itu artinya model kita bisa miss/meleset prediksi +- 2.36 misal diprediksinya 70, maka margin errornya di range 67.64 s/d 72.36.\n",
    "\n",
    "Jelaskan juga apakah model termasuk under/over/goodfit?\n",
    "\n",
    "Business insight nya apa?\n",
    "\n",
    "Hal\" unik dari EDA apa?"
   ]
  },
  {
   "cell_type": "markdown",
   "metadata": {},
   "source": [
    "# ix. Model Saving for Inference Data"
   ]
  },
  {
   "cell_type": "code",
   "execution_count": 58,
   "metadata": {},
   "outputs": [],
   "source": [
    "# save the model!\n",
    "with open('model_lin.pkl', 'wb') as file_1: # wb = write binary\n",
    "    pickle.dump(model_lin, file_1)\n",
    "\n",
    "# save the scaler!\n",
    "with open('std_scaler.pkl', 'wb') as file_2:\n",
    "    pickle.dump(std_scaler, file_2)\n",
    "\n",
    "with open('rbs_scaler.pkl', 'wb') as file_3:\n",
    "    pickle.dump(rbs_scaler, file_3)\n",
    "\n",
    "# save the encoder\n",
    "with open('encoder.pkl', 'wb') as file_4:\n",
    "    pickle.dump(encoder, file_4)\n",
    "\n",
    "# save the num col\n",
    "with open('num_col_std.txt', 'w') as file_5:\n",
    "    json.dump(num_col_std, file_5)\n",
    "\n",
    "with open('num_col_rbs.txt', 'w') as file_6:\n",
    "    json.dump(num_col_rbs, file_6)\n",
    "\n",
    "# save the cat col\n",
    "with open('cat_col.txt', 'w') as file_7:\n",
    "    json.dump(cat_col, file_7)"
   ]
  },
  {
   "cell_type": "code",
   "execution_count": 59,
   "metadata": {},
   "outputs": [
    {
     "data": {
      "text/plain": [
       "Index(['Name', 'Age', 'Height', 'Weight', 'ValueEUR', 'AttackingWorkRate',\n",
       "       'DefensiveWorkRate', 'PaceTotal', 'ShootingTotal', 'PassingTotal',\n",
       "       'DribblingTotal', 'DefendingTotal', 'PhysicalityTotal', 'Overall'],\n",
       "      dtype='object')"
      ]
     },
     "execution_count": 59,
     "metadata": {},
     "output_type": "execute_result"
    }
   ],
   "source": [
    "# Check columns for inference data\n",
    "df_ori.columns"
   ]
  },
  {
   "cell_type": "markdown",
   "metadata": {},
   "source": [
    "# x. Kesimpulan"
   ]
  },
  {
   "cell_type": "markdown",
   "metadata": {},
   "source": [
    "Make sure objective dan problem statement terjawab. Further improvement? "
   ]
  }
 ],
 "metadata": {
  "kernelspec": {
   "display_name": "base",
   "language": "python",
   "name": "python3"
  },
  "language_info": {
   "codemirror_mode": {
    "name": "ipython",
    "version": 3
   },
   "file_extension": ".py",
   "mimetype": "text/x-python",
   "name": "python",
   "nbconvert_exporter": "python",
   "pygments_lexer": "ipython3",
   "version": "3.10.9"
  }
 },
 "nbformat": 4,
 "nbformat_minor": 2
}
